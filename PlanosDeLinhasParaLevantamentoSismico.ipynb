{
 "cells": [
  {
   "cell_type": "markdown",
   "metadata": {},
   "source": [
    "# Elaborar planos de linhas para análise sismica\n",
    "\n",
    "A problemática da elaboração de um planos de linhas para levantamentos geofísicos consiste em criar linhas dentro de um polígono que equispaçadas com as inclinações matemáticas necessárias, e consequentemente suas linhas perpendiculares. No plano de linhas há muitas formas de se fazer isso, e portanto, devemos considerar todos os tipos de inputs possíveis, e suas problemáticas aqui será apresntado uma situação onde o dado está desordenado e como faze-lo.\n",
    "\n",
    "As bibliotecas necessárias serão apresentadas abaixo:\n",
    "\n",
    "* Geopandas - dispensa explicações, um dataframe com a parte de geoprocessamento\n",
    "* numpy - pra fazer conta\n",
    "* matplotlib - pra plotar\n",
    "* shapely.geometry - pra crar as geometrias que eu vou utilziar nesta bagaça\n",
    "* os - oprações do sistema"
   ]
  },
  {
   "cell_type": "code",
   "execution_count": 5,
   "metadata": {
    "collapsed": true
   },
   "outputs": [],
   "source": [
    "import geopandas as gpd\n",
    "import numpy as np\n",
    "import matplotlib.pyplot as plt\n",
    "from shapely.geometry import Polygon,LineString,asLineString,MultiLineString\n",
    "import os\n",
    "# para que os plots fiquem dentro do notebook\n",
    "%matplotlib inline"
   ]
  },
  {
   "cell_type": "markdown",
   "metadata": {},
   "source": [
    "## Declaração de variáveis\n",
    "\n",
    "Primeiramente vamos declarar as variáveis para que desta forma o script fique organizado:\n",
    "* path - diretório onde os arquivos estão armazenados - A importância de declarar uma variável desta está relacionada com a organização do fluxo de trabalho, uma mera formalidade mas que quando criamos o script para entrar na produção é necessária\n",
    "* fname - nome do arquivo com os dados. Neste caso estou trabalhando com um shape file de pontos.\n",
    "* MajorAxis - espaçamento entre as linhas no maior eixo do plano de linhas\n",
    "* MinorAxis - espaçamento entre as linhas no menor eixo do plano de linhas"
   ]
  },
  {
   "cell_type": "code",
   "execution_count": 6,
   "metadata": {
    "collapsed": true
   },
   "outputs": [],
   "source": [
    "# Para evitar alguns erros lembra que ou vc troca o \\ por / ou por \\\\\n",
    "# por convenção prefiro / por ser usuário de linux\n",
    "path = 'dados/PoligonoPlanoDeLinhasSismica/'\n",
    "# nome do shape\n",
    "fname = 'Limites.shp'\n",
    "# distância das linhas\n",
    "MajorAxis=50\n",
    "MinorAxis=30\n"
   ]
  },
  {
   "cell_type": "markdown",
   "metadata": {},
   "source": [
    "## Organizar os dados\n",
    "\n",
    "### Verificar os dados disponíveis\n",
    "\n",
    "Aqui vamos dar uma primeira olhada nos dados, ver os atributos do arquivo, conferir se de fato é um shape de polígono e como estão dispostos estes polígonos"
   ]
  },
  {
   "cell_type": "code",
   "execution_count": 7,
   "metadata": {},
   "outputs": [
    {
     "name": "stdout",
     "output_type": "stream",
     "text": [
      "        X        Y                geometry\n",
      "0  376056  7699770  POINT (376056 7699770)\n",
      "1  376056  7700170  POINT (376056 7700170)\n",
      "2  376560  7700170  POINT (376560 7700170)\n",
      "3  376560  7699352  POINT (376560 7699352)\n",
      "4  376216  7699352  POINT (376216 7699352)\n",
      "5  376216  7700584  POINT (376216 7700584)\n"
     ]
    },
    {
     "data": {
      "text/plain": [
       "<matplotlib.axes._subplots.AxesSubplot at 0xa042e80>"
      ]
     },
     "execution_count": 7,
     "metadata": {},
     "output_type": "execute_result"
    },
    {
     "data": {
      "image/png": "[encoded data removed]",
      "text/plain": [
       "<matplotlib.figure.Figure at 0x9f76eb8>"
      ]
     },
     "metadata": {},
     "output_type": "display_data"
    }
   ],
   "source": [
    "gdf = gpd.read_file(os.path.join(path,fname))\n",
    "print(gdf)\n",
    "# visualizar os dados\n",
    "gdf.plot()"
   ]
  },
  {
   "cell_type": "markdown",
   "metadata": {},
   "source": [
    "### Converter geometria e verificar o resultado\n",
    "\n",
    "Sabendo que foi passado um resultado de pontos, e observando a tabela acima inferesse que os pontos não estão ordenados o que vai resultar em um polígono deformado, portanto primeiramente será feira uma conferencia dos pontos, aplicando um teste de geometria apenas por mera formalidade"
   ]
  },
  {
   "cell_type": "code",
   "execution_count": 9,
   "metadata": {},
   "outputs": [
    {
     "data": {
      "text/plain": [
       "<matplotlib.axes._subplots.AxesSubplot at 0xa49a320>"
      ]
     },
     "execution_count": 9,
     "metadata": {},
     "output_type": "execute_result"
    },
    {
     "data": {
      "image/png": "[encoded data removed]",
      "text/plain": [
       "<matplotlib.figure.Figure at 0xa47f438>"
      ]
     },
     "metadata": {},
     "output_type": "display_data"
    }
   ],
   "source": [
    "if not isinstance(gdf.geometry[0], Polygon):\n",
    "    \n",
    "    geometry=Polygon([[p.x, p.y] for p in gdf.geometry])\n",
    "    area=gpd.GeoDataFrame(['area'],geometry=[geometry],crs=gdf.crs)\n",
    "    \n",
    "else:\n",
    "    area=gdf\n",
    "    \n",
    "area.plot()"
   ]
  },
  {
   "cell_type": "markdown",
   "metadata": {},
   "source": [
    "### Ordenação dos resultados\n",
    "    \n",
    "Neste momento deve-se ordenar os resutados, para tal devemos seguir um procedimento, aqui partirei do resultado de polígono pois é interessante que eu o algoritimo seja feito para polígonos assim pode ser colocado em produção\n",
    "\n",
    "0. Pegar as coordenadas\n",
    "1. Calcular o ponto central do polígono\n",
    "2. Plotar o resultado com o ponto central para verificação\n",
    "3. Calcular o arco tangente para ter a localização geométrica (e relativa) dos pontos\n",
    "4. Ordenar pelo resultado do arco tangente ao ponto\n",
    "5. Criar um novo polígono\n",
    "6. Plotar resultado\n",
    "    \n",
    "    "
   ]
  },
  {
   "cell_type": "code",
   "execution_count": 18,
   "metadata": {},
   "outputs": [
    {
     "ename": "AttributeError",
     "evalue": "'list' object has no attribute 'exterior'",
     "output_type": "error",
     "traceback": [
      "\u001b[1;31m---------------------------------------------------------------------------\u001b[0m",
      "\u001b[1;31mAttributeError\u001b[0m                            Traceback (most recent call last)",
      "\u001b[1;32m<ipython-input-18-4b3137f3f38b>\u001b[0m in \u001b[0;36m<module>\u001b[1;34m()\u001b[0m\n\u001b[0;32m      1\u001b[0m \u001b[1;31m# 1\u001b[0m\u001b[1;33m\u001b[0m\u001b[1;33m\u001b[0m\u001b[0m\n\u001b[0;32m      2\u001b[0m \u001b[1;31m# obter os valoes de x e y\u001b[0m\u001b[1;33m\u001b[0m\u001b[1;33m\u001b[0m\u001b[0m\n\u001b[1;32m----> 3\u001b[1;33m \u001b[0mx\u001b[0m\u001b[1;33m,\u001b[0m\u001b[0my\u001b[0m \u001b[1;33m=\u001b[0m \u001b[0mgeometry\u001b[0m\u001b[1;33m.\u001b[0m\u001b[0mexterior\u001b[0m\u001b[1;33m.\u001b[0m\u001b[0mcoords\u001b[0m\u001b[1;33m.\u001b[0m\u001b[0mxy\u001b[0m\u001b[1;33m\u001b[0m\u001b[0m\n\u001b[0m\u001b[0;32m      4\u001b[0m \u001b[1;31m# 2\u001b[0m\u001b[1;33m\u001b[0m\u001b[1;33m\u001b[0m\u001b[0m\n\u001b[0;32m      5\u001b[0m \u001b[1;31m# calcular os centros\u001b[0m\u001b[1;33m\u001b[0m\u001b[1;33m\u001b[0m\u001b[0m\n",
      "\u001b[1;31mAttributeError\u001b[0m: 'list' object has no attribute 'exterior'"
     ]
    }
   ],
   "source": [
    "# 1\n",
    "# obter os valoes de x e y\n",
    "x,y = geometry.exterior.coords.xy\n",
    "# 2\n",
    "# calcular os centros\n",
    "xc = np.mean(x)\n",
    "yc = np.mean(y)\n",
    "# 3\n",
    "# ver se o centro é centro mesmo\n",
    "area.plot()\n",
    "plt.plot(xc,yc,'rx')\n",
    "# 4\n",
    "# valores para arco tangente\n",
    "xt=np.asarray(x)-xc\n",
    "yt=np.asarray(y)-yc\n",
    "gdf['sorter'] = np.arctan2(yt[:-1],xt[:-1])\n",
    "# 5\n",
    "ngdf = gdf.sort_values('sorter')\n",
    "# 6\n",
    "geometry=Polygon([[p.x, p.y] for p in ngdf.geometry])\n",
    "area=gpd.GeoDataFrame(['area'],geometry=[geometry],crs=gdf.crs)\n",
    "# 7\n",
    "area.plot()"
   ]
  },
  {
   "cell_type": "markdown",
   "metadata": {},
   "source": [
    "Ordenação resolvida\n",
    " "
   ]
  },
  {
   "cell_type": "markdown",
   "metadata": {},
   "source": [
    "## Calcular a maior linha dentro do polígono e sua intersecção\n",
    "\n",
    "Calcular as linhas base para o plano de linhas, primeiramente vamos encontrar a maior linha possível (já que foi fornecido apenas o polígono base), desta forma o plano de linhas cobrirá o maior espaço da área.\n",
    "Para desenhar esta linha utilizaremos o ponto mais distante do centro do polígono, em seguida, traçaremos a linha do centro até este ponto mais distante e recorto ela na área do polígono.\n",
    "Em seguida rotaciono a linah 90 graus e recorto ela, e assim tenho a linah perpendicular.\n",
    "\n",
    "Em programação o procedimento é o seguinte:\n",
    "\n",
    "0. Pegar o ponto central e pontos do perímetro do polígono\n",
    "1. Calcular as distâncias entre os pontos (raiz de x^2+y^2)\n",
    "2. Pegar o índice da maior distância\n",
    "3. Criar uma linha no geodataframe usando a maior distancia (posotiva e negativamente)\n",
    "4. Recortar a linha apenas para os limites dentro do polígono\n",
    "5. Através do centroíde da linha, rotaciona-la 90 graus, para isso:\n",
    "\n",
    "    x = dx * cos(theta) - dy * sin(theta) + xcentro\n",
    "    y = dx * sin(theta) + dy * cos(theta) + ycentro\n",
    "\n",
    "    simplificado (theta =90 então cos =0 e sin =1) ficou\n",
    "\n",
    "    x = - dy + xcentro\n",
    "    y = dx  + ycentro\n",
    "\n",
    "6. Repetir o processo 3 e 4 para a linha rotacionada\n",
    "7. Plotar"
   ]
  },
  {
   "cell_type": "code",
   "execution_count": 19,
   "metadata": {},
   "outputs": [
    {
     "data": {
      "text/plain": [
       "<matplotlib.axes._subplots.AxesSubplot at 0xa5d3400>"
      ]
     },
     "execution_count": 19,
     "metadata": {},
     "output_type": "execute_result"
    },
    {
     "data": {
      "image/png": "[encoded data removed]",
      "text/plain": [
       "<matplotlib.figure.Figure at 0xb991518>"
      ]
     },
     "metadata": {},
     "output_type": "display_data"
    }
   ],
   "source": [
    "# 1\n",
    "xc = area.centroid.x[0]\n",
    "yc = area.centroid.y[0]\n",
    "\n",
    "coords = area.geometry.apply(lambda x:x.exterior.coords.xy)\n",
    "x,y = coords.values[0]\n",
    "# 2\n",
    "distance = ((np.asarray(x)-xc)**2+(np.asarray(y)-yc)**2)**0.5\n",
    "#3\n",
    "ind = np.argmax(distance)\n",
    "\n",
    "dx = x[ind]-xc\n",
    "dy = y[ind]-yc\n",
    "#4\n",
    "line = LineString(\n",
    "    [(xc-dx,yc-dy),\n",
    "    (xc+dx,yc+dy)]\n",
    ")\n",
    "\n",
    "line = gpd.GeoDataFrame(['main'],geometry=[line],crs=gdf.crs)\n",
    "#5\n",
    "line = area.intersection(line)\n",
    "#6\n",
    "xLineC = line.centroid.x\n",
    "yLineC = line.centroid.y\n",
    "\n",
    "minorX,minorY = line.geometry.values[0].coords.xy\n",
    "\n",
    "newx = (-np.asarray(minorY) + yLineC.values)+xLineC.values\n",
    "newy = (np.asarray(minorX) - xLineC.values)+yLineC.values\n",
    "#7\n",
    "minorLine = LineString([(xx,yy) for xx,yy in zip(newx,newy) ])\n",
    "minorLine = gpd.GeoDataFrame(geometry=[minorLine],crs=gdf.crs)\n",
    "minorLine = area.intersection(minorLine)\n",
    "#8\n",
    "ax = area.plot(color='cornflowerblue')\n",
    "line.plot(ax=ax,color='red')\n",
    "minorLine.plot(ax=ax,color='white')"
   ]
  },
  {
   "cell_type": "markdown",
   "metadata": {},
   "source": [
    "## Criar as linhas equiespaçadas\n",
    "    \n",
    "Agora que as linhas principais foram criadas, criaremos as linhas equiespaçadas\n",
    "    \n",
    "1. Verifico qual a direção preferencial de cada uma das linhas (maior linha e sua perpendicular)\n",
    "2. Crio o eixo com os valores do buffer\n",
    "3. Crio a função que aplica o buffer via shapely (via geopandas a função tem limitaçoes que eu não gosto) e converte este buffer de polígono para linha\n",
    "4. Cria o geodataframe todo com um Multi Poligono e depois intersecta\n",
    "5. Faz a mesma coisa para a linha perpendicular\n",
    "6. Plota"
   ]
  },
  {
   "cell_type": "code",
   "execution_count": 20,
   "metadata": {},
   "outputs": [
    {
     "data": {
      "text/plain": [
       "<matplotlib.axes._subplots.AxesSubplot at 0xa5e5a20>"
      ]
     },
     "execution_count": 20,
     "metadata": {},
     "output_type": "execute_result"
    },
    {
     "data": {
      "image/png": "[encoded data removed]",
      "text/plain": [
       "<matplotlib.figure.Figure at 0xa96b1d0>"
      ]
     },
     "metadata": {},
     "output_type": "display_data"
    }
   ],
   "source": [
    "# 1\n",
    "bnds = area.bounds\n",
    "\n",
    "if dy>dx:\n",
    "    N = np.ceil(len(np.arange(bnds['minx'],bnds['maxx'],MajorAxis))/2)\n",
    "    M = np.ceil(len(np.arange(bnds['miny'],bnds['maxy'],MinorAxis))/2)\n",
    "        \n",
    "else:\n",
    "    N = np.ceil(len(np.arange(bnds['miny'],bnds['maxy'],MajorAxis))/2)\n",
    "    M = np.ceil(len(np.arange(bnds['minx'],bnds['maxx'],MinorAxis))/2)\n",
    "# 2\n",
    "buffers=np.arange(MajorAxis,N*MajorAxis,MajorAxis)\n",
    "# 3\n",
    "def LineBuffer(line,brange):\n",
    "\n",
    "    nline = asLineString(line.geometry.values[0].buffer(brange,cap_style=3).exterior)\n",
    "    \n",
    "    return nline\n",
    "# 4\n",
    "geometry = [MultiLineString([LineBuffer(line,buf) for buf in buffers])]\n",
    "lines = gpd.GeoDataFrame(geometry=geometry,crs=gdf.crs)\n",
    "lines = area.intersection(lines)\n",
    "\n",
    "# 5\n",
    "Minorbuffers=np.arange(MinorAxis,M*MinorAxis,MinorAxis)\n",
    "\n",
    "geometry = [MultiLineString([LineBuffer(minorLine,buf) for buf in Minorbuffers])]\n",
    "\n",
    "minorLines = gpd.GeoDataFrame(geometry=geometry,crs=gdf.crs)\n",
    "minorLines = area.intersection(minorLines)\n",
    "#6\n",
    "ax = area.plot(color='cornflowerblue')\n",
    "line.plot(ax=ax,color='red')\n",
    "minorLine.plot(color='white',ax=ax)\n",
    "minorLines.plot(color='black',ax=ax)\n",
    "lines.plot(ax=ax,color='orange')"
   ]
  },
  {
   "cell_type": "code",
   "execution_count": null,
   "metadata": {
    "collapsed": true
   },
   "outputs": [],
   "source": []
  }
 ],
 "metadata": {
  "kernelspec": {
   "display_name": "Python 3",
   "language": "python",
   "name": "python3"
  },
  "language_info": {
   "codemirror_mode": {
    "name": "ipython",
    "version": 3
   },
   "file_extension": ".py",
   "mimetype": "text/x-python",
   "name": "python",
   "nbconvert_exporter": "python",
   "pygments_lexer": "ipython3",
   "version": "3.6.1"
  }
 },
 "nbformat": 4,
 "nbformat_minor": 2
}
